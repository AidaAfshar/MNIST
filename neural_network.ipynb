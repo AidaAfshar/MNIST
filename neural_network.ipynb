{
  "nbformat": 4,
  "nbformat_minor": 0,
  "metadata": {
    "colab": {
      "name": "neural-network.ipynb",
      "provenance": []
    },
    "kernelspec": {
      "name": "python3",
      "display_name": "Python 3"
    }
  },
  "cells": [
    {
      "cell_type": "code",
      "metadata": {
        "id": "MGCVVQDmSQx9"
      },
      "source": [
        "from keras.datasets import mnist\n",
        "import numpy as np\n",
        "(x_train, y_train), (x_test, y_test) = mnist.load_data()\n",
        "x_train = np.array(x_train,dtype = np.float64)\n",
        "x_test = np.array(x_test,dtype = np.float64)"
      ],
      "execution_count": null,
      "outputs": []
    },
    {
      "cell_type": "code",
      "metadata": {
        "id": "7vTmLPDnSe-k"
      },
      "source": [
        "%matplotlib inline"
      ],
      "execution_count": null,
      "outputs": []
    },
    {
      "cell_type": "code",
      "metadata": {
        "id": "_vb91MSHSyRh",
        "colab": {
          "base_uri": "https://localhost:8080/",
          "height": 299
        },
        "outputId": "9082694a-7288-4c32-ccc2-1edec22022a8"
      },
      "source": [
        "import matplotlib.pyplot as plt\n",
        "index = 27\n",
        "print(y_train[index])\n",
        "print(plt.imshow(x_train[index]))\n",
        "plt.show()"
      ],
      "execution_count": null,
      "outputs": [
        {
          "output_type": "stream",
          "text": [
            "3\n",
            "AxesImage(54,36;334.8x217.44)\n"
          ],
          "name": "stdout"
        },
        {
          "output_type": "display_data",
          "data": {
            "image/png": "[encoded data removed]",
            "text/plain": [
              "<Figure size 432x288 with 1 Axes>"
            ]
          },
          "metadata": {
            "tags": [],
            "needs_background": "light"
          }
        }
      ]
    },
    {
      "cell_type": "code",
      "metadata": {
        "id": "cDxdnDx-ThKP",
        "colab": {
          "base_uri": "https://localhost:8080/",
          "height": 51
        },
        "outputId": "cfe8b6ec-5274-44a5-ea11-b5e9ad7f8f3a"
      },
      "source": [
        "print(x_train.shape)\n",
        "print(x_test.shape)"
      ],
      "execution_count": null,
      "outputs": [
        {
          "output_type": "stream",
          "text": [
            "(60000, 28, 28)\n",
            "(10000, 28, 28)\n"
          ],
          "name": "stdout"
        }
      ]
    },
    {
      "cell_type": "code",
      "metadata": {
        "id": "eB3TIM9BTqmx"
      },
      "source": [
        "# save input image dimensions\n",
        "img_rows, img_cols = 28, 28\n",
        "x_train = x_train.reshape(x_train.shape[0],img_rows, img_cols, 1)\n",
        "x_test = x_test.reshape(x_test.shape[0],img_rows, img_cols, 1)\n",
        "x_train /= 255\n",
        "x_test /= 255"
      ],
      "execution_count": null,
      "outputs": []
    },
    {
      "cell_type": "code",
      "metadata": {
        "id": "YTNEw4zQUi79"
      },
      "source": [
        "from keras.utils import to_categorical\n",
        "num_classes = 10\n",
        "y_train = to_categorical(y_train,num_classes)\n",
        "y_test = to_categorical(y_test,num_classes)"
      ],
      "execution_count": null,
      "outputs": []
    },
    {
      "cell_type": "code",
      "metadata": {
        "id": "N-0tAbt5WOkQ"
      },
      "source": [
        "from keras.models import Sequential\n",
        "from keras.layers import Dense, Dropout, Flatten, MaxPooling2D , Conv2D\n",
        "model = Sequential() # empty NN model - basis for adding other layers"
      ],
      "execution_count": null,
      "outputs": []
    },
    {
      "cell_type": "code",
      "metadata": {
        "id": "MbPIzAviYaHr"
      },
      "source": [
        "# adding the first convolutional layer\n",
        "model.add(Conv2D(32, kernel_size=(3, 3),\n",
        "     activation='relu',\n",
        "     input_shape=(img_rows, img_cols, 1)))"
      ],
      "execution_count": null,
      "outputs": []
    },
    {
      "cell_type": "code",
      "metadata": {
        "id": "oPcXS-qYXpP3"
      },
      "source": [
        "# adding second convolutional layer\n",
        "model.add(Conv2D(64, (3, 3), activation='relu')) "
      ],
      "execution_count": null,
      "outputs": []
    },
    {
      "cell_type": "code",
      "metadata": {
        "id": "BIEFEpMwX5aU"
      },
      "source": [
        "# adding a pooling layer\n",
        "model.add(MaxPooling2D(pool_size = (2,2)))"
      ],
      "execution_count": null,
      "outputs": []
    },
    {
      "cell_type": "code",
      "metadata": {
        "id": "pzUAt_YOYOFf"
      },
      "source": [
        "# droping out some units in order to avoid overfitting\n",
        "model.add(Dropout(0.25))"
      ],
      "execution_count": null,
      "outputs": []
    },
    {
      "cell_type": "code",
      "metadata": {
        "id": "EgO9bCkoYXF0"
      },
      "source": [
        "# adding a flattening layer to convert the previous hidden layer in to a 1D array\n",
        "model.add(Flatten())"
      ],
      "execution_count": null,
      "outputs": []
    },
    {
      "cell_type": "code",
      "metadata": {
        "id": "1AKjUQjtY_Dp"
      },
      "source": [
        "model.add(Dense(128, activation='relu'))\n",
        "model.add(Dropout(0.5))"
      ],
      "execution_count": null,
      "outputs": []
    },
    {
      "cell_type": "code",
      "metadata": {
        "id": "yiAlS4xcZrOK"
      },
      "source": [
        "# The “softmax” activation is used when we’d like to classify the data into a number of pre-decided classes.\n",
        "model.add(Dense(num_classes, activation = 'softmax'))"
      ],
      "execution_count": null,
      "outputs": []
    },
    {
      "cell_type": "code",
      "metadata": {
        "id": "gC7U3WJDst8k"
      },
      "source": [
        "model.compile(loss='categorical_crossentropy',\n",
        "      optimizer='adam',\n",
        "      metrics=['accuracy'])"
      ],
      "execution_count": null,
      "outputs": []
    },
    {
      "cell_type": "code",
      "metadata": {
        "id": "zfw7s1vFsvWD",
        "colab": {
          "base_uri": "https://localhost:8080/",
          "height": 408
        },
        "outputId": "36ef5a87-a758-4aae-ab8d-c2a78e69b423"
      },
      "source": [
        "batch_size = 128 # The batch size is a number of samples processed before the model is updated.\n",
        "epochs = 10 # The number of epochs is the number of complete passes through the training dataset.\n",
        "model.fit(x_train,y_train,batch_size=batch_size, epochs = epochs, verbose = 1,validation_data = (x_test,y_test))\n",
        "score = model.evaluate(x_test,y_test, verbose=0)\n",
        "print(\"test loss : \",score[0])\n",
        "print(\"test accuracy : \",score[1])\n",
        "model.save(\"test_model\")"
      ],
      "execution_count": null,
      "outputs": [
        {
          "output_type": "stream",
          "text": [
            "Epoch 1/10\n",
            "469/469 [==============================] - 138s 294ms/step - loss: 0.3436 - accuracy: 0.8048 - val_loss: 0.3311 - val_accuracy: 0.8054\n",
            "Epoch 2/10\n",
            "469/469 [==============================] - 136s 290ms/step - loss: 0.3326 - accuracy: 0.8050 - val_loss: 0.3261 - val_accuracy: 0.8064\n",
            "Epoch 3/10\n",
            "469/469 [==============================] - 135s 289ms/step - loss: 0.3272 - accuracy: 0.8076 - val_loss: 0.3219 - val_accuracy: 0.8076\n",
            "Epoch 4/10\n",
            "469/469 [==============================] - 138s 293ms/step - loss: 0.3203 - accuracy: 0.8121 - val_loss: 0.3102 - val_accuracy: 0.8107\n",
            "Epoch 5/10\n",
            "469/469 [==============================] - 138s 293ms/step - loss: 0.3038 - accuracy: 0.8528 - val_loss: 0.2665 - val_accuracy: 0.9035\n",
            "Epoch 6/10\n",
            "469/469 [==============================] - 138s 294ms/step - loss: 0.2469 - accuracy: 0.9043 - val_loss: 0.2263 - val_accuracy: 0.9045\n",
            "Epoch 7/10\n",
            "469/469 [==============================] - 138s 294ms/step - loss: 0.2217 - accuracy: 0.9089 - val_loss: 0.2133 - val_accuracy: 0.9031\n",
            "Epoch 8/10\n",
            "469/469 [==============================] - 138s 294ms/step - loss: 0.1986 - accuracy: 0.9362 - val_loss: 0.1741 - val_accuracy: 0.9826\n",
            "Epoch 9/10\n",
            "469/469 [==============================] - 137s 293ms/step - loss: 0.1533 - accuracy: 0.9855 - val_loss: 0.1350 - val_accuracy: 0.9903\n",
            "Epoch 10/10\n",
            "469/469 [==============================] - 138s 294ms/step - loss: 0.1231 - accuracy: 0.9896 - val_loss: 0.1125 - val_accuracy: 0.9911\n",
            "test loss :  0.1124848872423172\n",
            "test accuracy :  0.991100013256073\n",
            "INFO:tensorflow:Assets written to: test_model/assets\n"
          ],
          "name": "stdout"
        }
      ]
    }
  ]
}