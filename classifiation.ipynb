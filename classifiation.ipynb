{
  "nbformat": 4,
  "nbformat_minor": 0,
  "metadata": {
    "colab": {
      "name": "classifiation.ipynb",
      "provenance": [],
      "collapsed_sections": []
    },
    "kernelspec": {
      "name": "python3",
      "display_name": "Python 3"
    }
  },
  "cells": [
    {
      "cell_type": "code",
      "metadata": {
        "id": "w5xQBMIJO0sh",
        "colab": {
          "base_uri": "https://localhost:8080/",
          "height": 34
        },
        "outputId": "e58b0e2a-498f-4ce3-b95a-3be049dbfc3a"
      },
      "source": [
        "from google.colab import drive\n",
        "drive.mount('/gdrive')"
      ],
      "execution_count": null,
      "outputs": [
        {
          "output_type": "stream",
          "text": [
            "Drive already mounted at /gdrive; to attempt to forcibly remount, call drive.mount(\"/gdrive\", force_remount=True).\n"
          ],
          "name": "stdout"
        }
      ]
    },
    {
      "cell_type": "code",
      "metadata": {
        "id": "HgRHPM3MPJZy",
        "colab": {
          "base_uri": "https://localhost:8080/",
          "height": 68
        },
        "outputId": "24d43d5c-cb4a-4cdf-d0db-d0a4cb3fe16d"
      },
      "source": [
        "%cd /gdrive/'My Drive'/datasets/MNIST\n",
        "%ls"
      ],
      "execution_count": null,
      "outputs": [
        {
          "output_type": "stream",
          "text": [
            "/gdrive/My Drive/datasets/MNIST\n",
            "t10k-images-idx3-ubyte.gz  train-images-idx3-ubyte.gz\n",
            "t10k-labels-idx1-ubyte.gz  train-labels-idx1-ubyte.gz\n"
          ],
          "name": "stdout"
        }
      ]
    },
    {
      "cell_type": "code",
      "metadata": {
        "id": "uGxq3ULfVkrk"
      },
      "source": [
        "import numpy as np\n",
        "import matplotlib.pyplot as plt\n",
        "import seaborn as sns\n",
        "import gzip\n",
        "import struct"
      ],
      "execution_count": null,
      "outputs": []
    },
    {
      "cell_type": "code",
      "metadata": {
        "id": "IpYYcOk-VndW"
      },
      "source": [
        "def read_images(file_name):\n",
        "    fi = gzip.open(file_name,'rb')\n",
        "    magic, n, rows, columns = struct.unpack(\">IIII\", fi.read(16))\n",
        "    assert rows == 28\n",
        "    assert columns == 28\n",
        "    rawbuffer = fi.read()\n",
        "    assert len(rawbuffer) == n * rows * columns\n",
        "    rawdata = np.frombuffer(rawbuffer, dtype='>u1', count=n*rows*columns)\n",
        "    return rawdata.reshape(n, rows, columns).astype(np.float32) / 255.0\n",
        "\n",
        "def read_labels(file_name):\n",
        "    fi = gzip.open(file_name,'rb')\n",
        "    magic, n = struct.unpack(\">II\", fi.read(8))\n",
        "    rawbuffer = fi.read()\n",
        "    assert len(rawbuffer) == n\n",
        "    return np.frombuffer(rawbuffer, dtype='>u1', count=n)"
      ],
      "execution_count": null,
      "outputs": []
    },
    {
      "cell_type": "code",
      "metadata": {
        "id": "GgXHeJa1FX4c",
        "colab": {
          "base_uri": "https://localhost:8080/",
          "height": 51
        },
        "outputId": "309f32f9-a7b7-4e9d-c21e-d8f4bfcc4390"
      },
      "source": [
        "x_train = read_images('train-images-idx3-ubyte.gz')\n",
        "y_train = read_labels('train-labels-idx1-ubyte.gz')\n",
        "x_test = read_images('t10k-images-idx3-ubyte.gz') \n",
        "y_test = read_labels('t10k-labels-idx1-ubyte.gz')\n",
        "size = len(x_train)\n",
        "test_size = len(x_test)\n",
        "print(\"train data size : \"+str(size))\n",
        "print(\"test data size :  \"+str(test_size))"
      ],
      "execution_count": null,
      "outputs": [
        {
          "output_type": "stream",
          "text": [
            "train data size : 60000\n",
            "test data size :  10000\n"
          ],
          "name": "stdout"
        }
      ]
    },
    {
      "cell_type": "code",
      "metadata": {
        "id": "lV3a7woWId06"
      },
      "source": [
        "def image_and_label(ax,data,labels,index):\n",
        "    np.asarray(x_train[index]).squeeze()\n",
        "    ax.imshow(x_train[index])\n",
        "    ax.set_title(y_train[index],fontsize=30)"
      ],
      "execution_count": null,
      "outputs": []
    },
    {
      "cell_type": "code",
      "metadata": {
        "id": "e6Hi4Q-qJ8xX",
        "colab": {
          "base_uri": "https://localhost:8080/",
          "height": 331
        },
        "outputId": "10cdcebe-db4d-47cf-ff58-8e93e7966bb6"
      },
      "source": [
        "from numpy.random import randint as randint\n",
        "\n",
        "fig,(ax1,ax2) = plt.subplots(1,2,figsize=(10,5))\n",
        "rand = randint(size)\n",
        "image_and_label(ax1,x_train,y_train,rand)\n",
        "rand = randint(test_size)\n",
        "image_and_label(ax2,x_test,y_test,rand)\n",
        "plt.show()"
      ],
      "execution_count": null,
      "outputs": [
        {
          "output_type": "display_data",
          "data": {
            "image/png": "[encoded data removed]",
            "text/plain": [
              "<Figure size 720x360 with 2 Axes>"
            ]
          },
          "metadata": {
            "tags": [],
            "needs_background": "light"
          }
        }
      ]
    },
    {
      "cell_type": "code",
      "metadata": {
        "id": "7gUC5sg2IHOJ"
      },
      "source": [
        "from sklearn import metrics"
      ],
      "execution_count": null,
      "outputs": []
    },
    {
      "cell_type": "markdown",
      "metadata": {
        "id": "W95-kKbBlR3-"
      },
      "source": [
        "### Decision Tree Classifier"
      ]
    },
    {
      "cell_type": "code",
      "metadata": {
        "id": "2fSvG7o9FXcS",
        "colab": {
          "base_uri": "https://localhost:8080/",
          "height": 306
        },
        "outputId": "28be8e4f-f0d7-4583-f115-b61a2492a945"
      },
      "source": [
        "from sklearn.tree import DecisionTreeClassifier\n",
        "\n",
        "clf = DecisionTreeClassifier(random_state = 0)\n",
        "clf.fit(x_train.reshape(size,-1),y_train)\n",
        "y_pred = clf.predict(x_test.reshape(test_size,-1))\n",
        "print(metrics.classification_report(y_test,y_pred))"
      ],
      "execution_count": null,
      "outputs": [
        {
          "output_type": "stream",
          "text": [
            "              precision    recall  f1-score   support\n",
            "\n",
            "           0       0.91      0.93      0.92       980\n",
            "           1       0.96      0.96      0.96      1135\n",
            "           2       0.87      0.85      0.86      1032\n",
            "           3       0.82      0.86      0.84      1010\n",
            "           4       0.88      0.88      0.88       982\n",
            "           5       0.85      0.84      0.85       892\n",
            "           6       0.89      0.88      0.88       958\n",
            "           7       0.91      0.90      0.91      1028\n",
            "           8       0.82      0.81      0.81       974\n",
            "           9       0.85      0.85      0.85      1009\n",
            "\n",
            "    accuracy                           0.88     10000\n",
            "   macro avg       0.88      0.88      0.88     10000\n",
            "weighted avg       0.88      0.88      0.88     10000\n",
            "\n"
          ],
          "name": "stdout"
        }
      ]
    },
    {
      "cell_type": "code",
      "metadata": {
        "id": "iDKQS8jBk-NV",
        "colab": {
          "base_uri": "https://localhost:8080/",
          "height": 187
        },
        "outputId": "9081ba1d-b886-441d-8281-1a350ed3d4ad"
      },
      "source": [
        "metrics.confusion_matrix(y_test,y_pred)"
      ],
      "execution_count": null,
      "outputs": [
        {
          "output_type": "execute_result",
          "data": {
            "text/plain": [
              "array([[ 915,    0,    4,    8,    5,   11,   14,    4,    8,   11],\n",
              "       [   0, 1090,    8,   11,    1,    6,    8,    1,    9,    1],\n",
              "       [  15,    7,  879,   33,   14,    9,   11,   24,   30,   10],\n",
              "       [  11,    5,   29,  865,    7,   37,    4,    9,   23,   20],\n",
              "       [   5,    2,    7,    5,  865,    8,   15,   11,   21,   43],\n",
              "       [  13,    7,    3,   50,    6,  751,   23,    6,   21,   12],\n",
              "       [  16,    3,   15,   10,   22,   20,  841,    2,   25,    4],\n",
              "       [   2,   12,   26,   13,    6,    6,    4,  929,    9,   21],\n",
              "       [  10,    7,   29,   41,   17,   27,   16,   10,  788,   29],\n",
              "       [  14,    2,   11,   20,   41,    8,    9,   20,   28,  856]])"
            ]
          },
          "metadata": {
            "tags": []
          },
          "execution_count": 20
        }
      ]
    },
    {
      "cell_type": "markdown",
      "metadata": {
        "id": "VIbDmRbglWeg"
      },
      "source": [
        "### Random Forest Classifer"
      ]
    },
    {
      "cell_type": "code",
      "metadata": {
        "id": "5Opiqkt-D0CK",
        "colab": {
          "base_uri": "https://localhost:8080/",
          "height": 306
        },
        "outputId": "d48ba0d0-ef4b-47e1-d828-531f3b2b0c13"
      },
      "source": [
        "from sklearn.ensemble import RandomForestClassifier\n",
        "\n",
        "clf = RandomForestClassifier(random_state=0)\n",
        "clf.fit(x_train.reshape(size,-1), y_train)\n",
        "y_pred = clf.predict(x_test.reshape(test_size,-1))\n",
        "print(metrics.classification_report(y_test,y_pred))"
      ],
      "execution_count": null,
      "outputs": [
        {
          "output_type": "stream",
          "text": [
            "              precision    recall  f1-score   support\n",
            "\n",
            "           0       0.97      0.99      0.98       980\n",
            "           1       0.99      0.99      0.99      1135\n",
            "           2       0.96      0.97      0.97      1032\n",
            "           3       0.96      0.96      0.96      1010\n",
            "           4       0.98      0.98      0.98       982\n",
            "           5       0.97      0.97      0.97       892\n",
            "           6       0.97      0.98      0.98       958\n",
            "           7       0.97      0.96      0.97      1028\n",
            "           8       0.96      0.95      0.96       974\n",
            "           9       0.96      0.96      0.96      1009\n",
            "\n",
            "    accuracy                           0.97     10000\n",
            "   macro avg       0.97      0.97      0.97     10000\n",
            "weighted avg       0.97      0.97      0.97     10000\n",
            "\n"
          ],
          "name": "stdout"
        }
      ]
    },
    {
      "cell_type": "code",
      "metadata": {
        "id": "RBchh-S9lyIm",
        "colab": {
          "base_uri": "https://localhost:8080/",
          "height": 187
        },
        "outputId": "d2a1a044-bbaf-4e46-8709-c8b2298ad13a"
      },
      "source": [
        "metrics.confusion_matrix(y_test,y_pred)"
      ],
      "execution_count": null,
      "outputs": [
        {
          "output_type": "execute_result",
          "data": {
            "text/plain": [
              "array([[ 969,    0,    0,    0,    0,    2,    5,    1,    3,    0],\n",
              "       [   0, 1124,    2,    3,    0,    2,    2,    1,    1,    0],\n",
              "       [   5,    0,  999,    7,    2,    0,    3,    9,    7,    0],\n",
              "       [   1,    0,   10,  971,    0,   10,    0,    8,    8,    2],\n",
              "       [   1,    0,    1,    0,  958,    0,    6,    0,    2,   14],\n",
              "       [   3,    0,    0,   11,    0,  862,    8,    2,    4,    2],\n",
              "       [   6,    3,    0,    0,    3,    4,  939,    0,    3,    0],\n",
              "       [   1,    3,   20,    1,    0,    0,    0,  989,    3,   11],\n",
              "       [   5,    0,    5,    6,    4,    9,    4,    4,  928,    9],\n",
              "       [   8,    5,    1,    9,    8,    3,    1,    4,    4,  966]])"
            ]
          },
          "metadata": {
            "tags": []
          },
          "execution_count": 14
        }
      ]
    },
    {
      "cell_type": "markdown",
      "metadata": {
        "id": "IKJ0w39AsWdz"
      },
      "source": [
        "### K-Nearest Neighbors Classifier"
      ]
    },
    {
      "cell_type": "code",
      "metadata": {
        "id": "cFQ6rPWGsZq3"
      },
      "source": [
        "from sklearn.neighbors import KNeighborsClassifier\n",
        "clf = KNeighborsClassifier(n_neighbors=3)\n",
        "clf.fit(x_train.reshape(size,-1),y_train)\n",
        "y_pred = clf.predict(x_test.reshape(test_size,-1))\n",
        "print(metrics.classification_report(y_test,y_pred))"
      ],
      "execution_count": null,
      "outputs": []
    },
    {
      "cell_type": "code",
      "metadata": {
        "id": "VCTaIoDXtVAc"
      },
      "source": [
        "metrics.confusion_matrix(y_test,y_pred)"
      ],
      "execution_count": null,
      "outputs": []
    },
    {
      "cell_type": "code",
      "metadata": {
        "id": "I4SvxVWi1PPL",
        "colab": {
          "base_uri": "https://localhost:8080/"
        },
        "outputId": "87e62cc8-b552-4804-fdef-31c9245fb230"
      },
      "source": [
        "from sklearn.neighbors import RadiusNeighborsClassifier\n",
        "clf = RadiusNeighborsClassifier(radius = 1.0)\n",
        "clf.fit(x_train.reshape(size,-1),y_train)\n",
        "y_pred = clf.predict(x_test.reshape(test_size,-1))\n",
        "print(metrics.classification_report(y_test,y_pred))"
      ],
      "execution_count": null,
      "outputs": [
        {
          "output_type": "error",
          "ename": "ValueError",
          "evalue": "ignored",
          "traceback": [
            "\u001b[0;31m---------------------------------------------------------------------------\u001b[0m",
            "\u001b[0;31mValueError\u001b[0m                                Traceback (most recent call last)",
            "\u001b[0;32m<ipython-input-10-a9b848184553>\u001b[0m in \u001b[0;36m<module>\u001b[0;34m()\u001b[0m\n\u001b[1;32m      2\u001b[0m \u001b[0mclf\u001b[0m \u001b[0;34m=\u001b[0m \u001b[0mRadiusNeighborsClassifier\u001b[0m\u001b[0;34m(\u001b[0m\u001b[0mradius\u001b[0m \u001b[0;34m=\u001b[0m \u001b[0;36m1.0\u001b[0m\u001b[0;34m)\u001b[0m\u001b[0;34m\u001b[0m\u001b[0;34m\u001b[0m\u001b[0m\n\u001b[1;32m      3\u001b[0m \u001b[0mclf\u001b[0m\u001b[0;34m.\u001b[0m\u001b[0mfit\u001b[0m\u001b[0;34m(\u001b[0m\u001b[0mx_train\u001b[0m\u001b[0;34m.\u001b[0m\u001b[0mreshape\u001b[0m\u001b[0;34m(\u001b[0m\u001b[0msize\u001b[0m\u001b[0;34m,\u001b[0m\u001b[0;34m-\u001b[0m\u001b[0;36m1\u001b[0m\u001b[0;34m)\u001b[0m\u001b[0;34m,\u001b[0m\u001b[0my_train\u001b[0m\u001b[0;34m)\u001b[0m\u001b[0;34m\u001b[0m\u001b[0;34m\u001b[0m\u001b[0m\n\u001b[0;32m----> 4\u001b[0;31m \u001b[0my_pred\u001b[0m \u001b[0;34m=\u001b[0m \u001b[0mclf\u001b[0m\u001b[0;34m.\u001b[0m\u001b[0mpredict\u001b[0m\u001b[0;34m(\u001b[0m\u001b[0mx_test\u001b[0m\u001b[0;34m.\u001b[0m\u001b[0mreshape\u001b[0m\u001b[0;34m(\u001b[0m\u001b[0mtest_size\u001b[0m\u001b[0;34m,\u001b[0m\u001b[0;34m-\u001b[0m\u001b[0;36m1\u001b[0m\u001b[0;34m)\u001b[0m\u001b[0;34m)\u001b[0m\u001b[0;34m\u001b[0m\u001b[0;34m\u001b[0m\u001b[0m\n\u001b[0m\u001b[1;32m      5\u001b[0m \u001b[0mprint\u001b[0m\u001b[0;34m(\u001b[0m\u001b[0mmetrics\u001b[0m\u001b[0;34m.\u001b[0m\u001b[0mclassification_report\u001b[0m\u001b[0;34m(\u001b[0m\u001b[0my_test\u001b[0m\u001b[0;34m,\u001b[0m\u001b[0my_pred\u001b[0m\u001b[0;34m)\u001b[0m\u001b[0;34m)\u001b[0m\u001b[0;34m\u001b[0m\u001b[0;34m\u001b[0m\u001b[0m\n",
            "\u001b[0;32m/usr/local/lib/python3.6/dist-packages/sklearn/neighbors/_classification.py\u001b[0m in \u001b[0;36mpredict\u001b[0;34m(self, X)\u001b[0m\n\u001b[1;32m    464\u001b[0m         \"\"\"\n\u001b[1;32m    465\u001b[0m \u001b[0;34m\u001b[0m\u001b[0m\n\u001b[0;32m--> 466\u001b[0;31m         \u001b[0mprobs\u001b[0m \u001b[0;34m=\u001b[0m \u001b[0mself\u001b[0m\u001b[0;34m.\u001b[0m\u001b[0mpredict_proba\u001b[0m\u001b[0;34m(\u001b[0m\u001b[0mX\u001b[0m\u001b[0;34m)\u001b[0m\u001b[0;34m\u001b[0m\u001b[0;34m\u001b[0m\u001b[0m\n\u001b[0m\u001b[1;32m    467\u001b[0m         \u001b[0mclasses_\u001b[0m \u001b[0;34m=\u001b[0m \u001b[0mself\u001b[0m\u001b[0;34m.\u001b[0m\u001b[0mclasses_\u001b[0m\u001b[0;34m\u001b[0m\u001b[0;34m\u001b[0m\u001b[0m\n\u001b[1;32m    468\u001b[0m \u001b[0;34m\u001b[0m\u001b[0m\n",
            "\u001b[0;32m/usr/local/lib/python3.6/dist-packages/sklearn/neighbors/_classification.py\u001b[0m in \u001b[0;36mpredict_proba\u001b[0;34m(self, X)\u001b[0m\n\u001b[1;32m    528\u001b[0m                              \u001b[0;34m'giving a label for outliers, '\u001b[0m\u001b[0;34m\u001b[0m\u001b[0;34m\u001b[0m\u001b[0m\n\u001b[1;32m    529\u001b[0m                              \u001b[0;34m'or considering removing them from your dataset.'\u001b[0m\u001b[0;34m\u001b[0m\u001b[0;34m\u001b[0m\u001b[0m\n\u001b[0;32m--> 530\u001b[0;31m                              % outliers)\n\u001b[0m\u001b[1;32m    531\u001b[0m \u001b[0;34m\u001b[0m\u001b[0m\n\u001b[1;32m    532\u001b[0m         \u001b[0mweights\u001b[0m \u001b[0;34m=\u001b[0m \u001b[0m_get_weights\u001b[0m\u001b[0;34m(\u001b[0m\u001b[0mneigh_dist\u001b[0m\u001b[0;34m,\u001b[0m \u001b[0mself\u001b[0m\u001b[0;34m.\u001b[0m\u001b[0mweights\u001b[0m\u001b[0;34m)\u001b[0m\u001b[0;34m\u001b[0m\u001b[0;34m\u001b[0m\u001b[0m\n",
            "\u001b[0;31mValueError\u001b[0m: No neighbors found for test samples array([   0,    1,    2, ..., 9997, 9998, 9999]), you can try using larger radius, giving a label for outliers, or considering removing them from your dataset."
          ]
        }
      ]
    }
  ]
}